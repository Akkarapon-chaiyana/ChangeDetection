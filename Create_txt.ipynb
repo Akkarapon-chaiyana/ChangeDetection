{
  "nbformat": 4,
  "nbformat_minor": 0,
  "metadata": {
    "colab": {
      "provenance": []
    },
    "kernelspec": {
      "name": "python3",
      "display_name": "Python 3"
    },
    "language_info": {
      "name": "python"
    }
  },
  "cells": [
    {
      "cell_type": "code",
      "source": [
        "from google.colab import drive\n",
        "drive.mount('/content/drive')"
      ],
      "metadata": {
        "colab": {
          "base_uri": "https://localhost:8080/"
        },
        "id": "z-hT7tnF_f17",
        "outputId": "dd595d83-df9a-4f75-9e46-c0f29db15813"
      },
      "execution_count": null,
      "outputs": [
        {
          "output_type": "stream",
          "name": "stdout",
          "text": [
            "Mounted at /content/drive\n"
          ]
        }
      ]
    },
    {
      "cell_type": "code",
      "source": [
        "%cd /content/drive/MyDrive/SSL4EO"
      ],
      "metadata": {
        "colab": {
          "base_uri": "https://localhost:8080/"
        },
        "id": "KYqvO-Mx_jAf",
        "outputId": "0ad0fb92-c4bd-4e17-dc2b-b04cbdb90877"
      },
      "execution_count": null,
      "outputs": [
        {
          "output_type": "stream",
          "name": "stdout",
          "text": [
            "/content/drive/MyDrive/SSL4EO\n"
          ]
        }
      ]
    },
    {
      "cell_type": "code",
      "execution_count": null,
      "metadata": {
        "id": "RweU8EyQ_efE"
      },
      "outputs": [],
      "source": [
        "import os\n",
        "import random\n",
        "\n",
        "# Set paths\n",
        "dataset_path = \"/content/drive/MyDrive/SSL4EO/Images/before\"\n",
        "train_file = \"/content/drive/MyDrive/SSL4EO/Images/train.txt\"\n",
        "test_file = \"/content/drive/MyDrive/SSL4EO/Images/test.txt\"\n",
        "all_file = \"/content/drive/MyDrive/SSL4EO/Images/all.txt\"\n",
        "\n",
        "# Parameters\n",
        "train_split = 0.7\n",
        "\n",
        "# Get the list of all folders or images in the dataset\n",
        "all_files = os.listdir(dataset_path)\n",
        "\n",
        "# Write all.txt\n",
        "with open(all_file, 'w') as f:\n",
        "    f.write(\",\".join(all_files))\n",
        "\n",
        "random.shuffle(all_files)\n",
        "\n",
        "# Split into train and test\n",
        "train_size = int(len(all_files) * train_split)\n",
        "train_files = all_files[:train_size]\n",
        "test_files = all_files[train_size:]\n",
        "\n",
        "# Write train.txt\n",
        "with open(train_file, 'w') as f:\n",
        "    f.write(\",\".join(train_files))\n",
        "\n",
        "# Write test.txt\n",
        "with open(test_file, 'w') as f:\n",
        "    f.write(\",\".join(test_files))"
      ]
    }
  ]
}